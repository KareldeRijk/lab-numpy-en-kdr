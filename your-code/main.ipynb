{
 "cells": [
  {
   "cell_type": "markdown",
   "metadata": {},
   "source": [
    "# Lab | Numpy Deep Dive"
   ]
  },
  {
   "cell_type": "markdown",
   "metadata": {},
   "source": [
    "### 1. Import the NUMPY package under the name np.\n"
   ]
  },
  {
   "cell_type": "code",
   "execution_count": 1,
   "metadata": {},
   "outputs": [],
   "source": [
    "import numpy as np"
   ]
  },
  {
   "cell_type": "markdown",
   "metadata": {},
   "source": [
    "\n",
    "\n",
    "### 2. Print the NUMPY version and the configuration.\n"
   ]
  },
  {
   "cell_type": "code",
   "execution_count": 2,
   "metadata": {},
   "outputs": [
    {
     "name": "stdout",
     "output_type": "stream",
     "text": [
      "2.2.4\n"
     ]
    }
   ],
   "source": [
    "print(np.version.version)"
   ]
  },
  {
   "cell_type": "markdown",
   "metadata": {},
   "source": [
    "### 3. Generate a 2x3x5 3-dimensional array with random values. Assign the array to variable \"a\"\n",
    "Challenge: there are at least three easy ways that use numpy to generate random arrays. How many ways can you find?\n"
   ]
  },
  {
   "cell_type": "code",
   "execution_count": 11,
   "metadata": {},
   "outputs": [
    {
     "name": "stdout",
     "output_type": "stream",
     "text": [
      "A is an array of the following numbers: \n",
      "3\n",
      "[[[4 2 8 9 9]\n",
      "  [9 0 6 6 8]\n",
      "  [3 3 4 8 5]]\n",
      "\n",
      " [[9 3 5 4 4]\n",
      "  [8 1 4 5 5]\n",
      "  [4 2 3 2 8]]]\n",
      "A2 is an array of the following numbers: \n",
      "3\n",
      "[[[0.58705264 0.10439797 0.10987155 0.87880466 0.19634468]\n",
      "  [0.01690683 0.90795606 0.46336664 0.29963763 0.22100271]\n",
      "  [0.64851394 0.07692552 0.87480797 0.77126095 0.9695411 ]]\n",
      "\n",
      " [[0.40088819 0.1784533  0.48114638 0.22217642 0.75097671]\n",
      "  [0.7116865  0.12059496 0.32261741 0.4235361  0.78969466]\n",
      "  [0.17073756 0.11060123 0.13605561 0.33102555 0.2068833 ]]]\n",
      "A3 is an array of the following numbers: \n",
      "3\n",
      "[[[ 0.5121003  -0.46159845  1.61143687  0.40841123  0.20668906]\n",
      "  [ 0.98682028 -0.47623397 -1.72452115  0.03894566  0.12958093]\n",
      "  [ 1.62019624  0.92710677 -0.18568419 -1.70274415  1.14417101]]\n",
      "\n",
      " [[ 0.47493394 -2.08219872 -0.04255597  0.17259219 -0.77573742]\n",
      "  [-1.19144815  0.82735278  1.83961642  1.30307053  1.66074257]\n",
      "  [ 0.3060472  -0.87736169 -1.96939736  0.46438388 -0.84827314]]]\n"
     ]
    }
   ],
   "source": [
    "from random import randint, random\n",
    "#method 1\n",
    "a = np.random.randint(10, size = (2,3,5))\n",
    "print(\"A is an array of the following numbers: \")\n",
    "print(a.ndim)\n",
    "print(a)\n",
    "\n",
    "#method 2\n",
    "a2 = np.random.rand(2,3,5)\n",
    "print(\"A2 is an array of the following numbers: \")\n",
    "print(a2.ndim)\n",
    "print(a2)\n",
    "\n",
    "#method 3\n",
    "a3 = np.random.randn(2,3,5)\n",
    "print(\"A3 is an array of the following numbers: \")\n",
    "print(a3.ndim)\n",
    "print(a3)"
   ]
  },
  {
   "cell_type": "markdown",
   "metadata": {},
   "source": [
    "\n",
    "### 4. Print a.\n"
   ]
  },
  {
   "cell_type": "code",
   "execution_count": 12,
   "metadata": {},
   "outputs": [
    {
     "name": "stdout",
     "output_type": "stream",
     "text": [
      "[[[4 2 8 9 9]\n",
      "  [9 0 6 6 8]\n",
      "  [3 3 4 8 5]]\n",
      "\n",
      " [[9 3 5 4 4]\n",
      "  [8 1 4 5 5]\n",
      "  [4 2 3 2 8]]]\n",
      "[[[0.58705264 0.10439797 0.10987155 0.87880466 0.19634468]\n",
      "  [0.01690683 0.90795606 0.46336664 0.29963763 0.22100271]\n",
      "  [0.64851394 0.07692552 0.87480797 0.77126095 0.9695411 ]]\n",
      "\n",
      " [[0.40088819 0.1784533  0.48114638 0.22217642 0.75097671]\n",
      "  [0.7116865  0.12059496 0.32261741 0.4235361  0.78969466]\n",
      "  [0.17073756 0.11060123 0.13605561 0.33102555 0.2068833 ]]]\n",
      "[[[ 0.5121003  -0.46159845  1.61143687  0.40841123  0.20668906]\n",
      "  [ 0.98682028 -0.47623397 -1.72452115  0.03894566  0.12958093]\n",
      "  [ 1.62019624  0.92710677 -0.18568419 -1.70274415  1.14417101]]\n",
      "\n",
      " [[ 0.47493394 -2.08219872 -0.04255597  0.17259219 -0.77573742]\n",
      "  [-1.19144815  0.82735278  1.83961642  1.30307053  1.66074257]\n",
      "  [ 0.3060472  -0.87736169 -1.96939736  0.46438388 -0.84827314]]]\n"
     ]
    }
   ],
   "source": [
    "print(a)\n",
    "print(a2)\n",
    "print(a3)"
   ]
  },
  {
   "cell_type": "markdown",
   "metadata": {},
   "source": [
    "### 5. Create a 5x2x3 3-dimensional array with all values equaling 1.\n",
    "### Assign the array to variable \"b\"\n"
   ]
  },
  {
   "cell_type": "code",
   "execution_count": 13,
   "metadata": {},
   "outputs": [],
   "source": [
    "b = np.ones((5,2,3))\n"
   ]
  },
  {
   "cell_type": "markdown",
   "metadata": {},
   "source": [
    "\n",
    "### 6. Print b.\n"
   ]
  },
  {
   "cell_type": "code",
   "execution_count": 14,
   "metadata": {},
   "outputs": [
    {
     "name": "stdout",
     "output_type": "stream",
     "text": [
      "B is an array of the following numbers: \n",
      "[[[1. 1. 1.]\n",
      "  [1. 1. 1.]]\n",
      "\n",
      " [[1. 1. 1.]\n",
      "  [1. 1. 1.]]\n",
      "\n",
      " [[1. 1. 1.]\n",
      "  [1. 1. 1.]]\n",
      "\n",
      " [[1. 1. 1.]\n",
      "  [1. 1. 1.]]\n",
      "\n",
      " [[1. 1. 1.]\n",
      "  [1. 1. 1.]]]\n"
     ]
    }
   ],
   "source": [
    "### [your code here]\n",
    "print(\"B is an array of the following numbers: \")\n",
    "print(b)"
   ]
  },
  {
   "cell_type": "markdown",
   "metadata": {},
   "source": [
    "\n",
    "### 7. Do a and b have the same size? How do you prove that in Python code?\n"
   ]
  },
  {
   "cell_type": "code",
   "execution_count": 15,
   "metadata": {},
   "outputs": [
    {
     "name": "stdout",
     "output_type": "stream",
     "text": [
      "A and B have the same number of dimensions\n"
     ]
    }
   ],
   "source": [
    "if a.ndim == b.ndim:\n",
    "    print(\"A and B have the same number of dimensions\")\n",
    "elif a.shape == b.shape:\n",
    "    print(\"A and B have the same shape\")\n",
    "elif a.size == b.size:\n",
    "    print(\"A and B have the same size\")"
   ]
  },
  {
   "cell_type": "markdown",
   "metadata": {},
   "source": [
    "\n",
    "### 8. Are you able to add a and b? Why or why not?\n"
   ]
  },
  {
   "cell_type": "code",
   "execution_count": null,
   "metadata": {},
   "outputs": [
    {
     "ename": "ValueError",
     "evalue": "operands could not be broadcast together with shapes (2,3,5) (5,2,3) ",
     "output_type": "error",
     "traceback": [
      "\u001b[31m---------------------------------------------------------------------------\u001b[39m",
      "\u001b[31mValueError\u001b[39m                                Traceback (most recent call last)",
      "\u001b[36mCell\u001b[39m\u001b[36m \u001b[39m\u001b[32mIn[16]\u001b[39m\u001b[32m, line 1\u001b[39m\n\u001b[32m----> \u001b[39m\u001b[32m1\u001b[39m \u001b[38;5;28mprint\u001b[39m(\u001b[43ma\u001b[49m\u001b[43m \u001b[49m\u001b[43m+\u001b[49m\u001b[43m \u001b[49m\u001b[43mb\u001b[49m)\n",
      "\u001b[31mValueError\u001b[39m: operands could not be broadcast together with shapes (2,3,5) (5,2,3) "
     ]
    }
   ],
   "source": [
    "# We are not able to add a and b as they are not the same shape "
   ]
  },
  {
   "cell_type": "markdown",
   "metadata": {},
   "source": [
    "\n",
    "\n",
    "### 9. Transpose b so that it has the same structure of a (i.e. become a 2x3x5 array). Assign the transposed array to varialbe \"c\".\n"
   ]
  },
  {
   "cell_type": "code",
   "execution_count": 20,
   "metadata": {},
   "outputs": [
    {
     "name": "stdout",
     "output_type": "stream",
     "text": [
      "[[[1. 1. 1.]\n",
      "  [1. 1. 1.]]\n",
      "\n",
      " [[1. 1. 1.]\n",
      "  [1. 1. 1.]]\n",
      "\n",
      " [[1. 1. 1.]\n",
      "  [1. 1. 1.]]\n",
      "\n",
      " [[1. 1. 1.]\n",
      "  [1. 1. 1.]]\n",
      "\n",
      " [[1. 1. 1.]\n",
      "  [1. 1. 1.]]]\n",
      "C is an array of the following numbers: \n",
      "[[[1. 1. 1. 1. 1.]\n",
      "  [1. 1. 1. 1. 1.]\n",
      "  [1. 1. 1. 1. 1.]]\n",
      "\n",
      " [[1. 1. 1. 1. 1.]\n",
      "  [1. 1. 1. 1. 1.]\n",
      "  [1. 1. 1. 1. 1.]]]\n",
      "[[[ 5.  3.  9. 10. 10.]\n",
      "  [10.  1.  7.  7.  9.]\n",
      "  [ 4.  4.  5.  9.  6.]]\n",
      "\n",
      " [[10.  4.  6.  5.  5.]\n",
      "  [ 9.  2.  5.  6.  6.]\n",
      "  [ 5.  3.  4.  3.  9.]]]\n"
     ]
    }
   ],
   "source": [
    "arrayb1d = np.array(b)\n",
    "print(arrayb1d)\n",
    "c = np.reshape(arrayb1d, (2,3,5))\n",
    "print(\"C is an array of the following numbers: \")\n",
    "print(c)\n",
    "print(a + c)\n",
    "\n"
   ]
  },
  {
   "cell_type": "markdown",
   "metadata": {},
   "source": [
    "\n",
    "### 10. Try to add a and c. Now it should work. Assign the sum to variable \"d\". But why does it work now?\n"
   ]
  },
  {
   "cell_type": "code",
   "execution_count": 21,
   "metadata": {},
   "outputs": [],
   "source": [
    "d = a + c\n"
   ]
  },
  {
   "cell_type": "markdown",
   "metadata": {},
   "source": [
    "\n",
    "### 11. Print a and d. Notice the difference and relation of the two array in terms of the values? Explain.\n"
   ]
  },
  {
   "cell_type": "code",
   "execution_count": null,
   "metadata": {},
   "outputs": [
    {
     "name": "stdout",
     "output_type": "stream",
     "text": [
      "[[[4 2 8 9 9]\n",
      "  [9 0 6 6 8]\n",
      "  [3 3 4 8 5]]\n",
      "\n",
      " [[9 3 5 4 4]\n",
      "  [8 1 4 5 5]\n",
      "  [4 2 3 2 8]]]\n",
      "[[[ 5.  3.  9. 10. 10.]\n",
      "  [10.  1.  7.  7.  9.]\n",
      "  [ 4.  4.  5.  9.  6.]]\n",
      "\n",
      " [[10.  4.  6.  5.  5.]\n",
      "  [ 9.  2.  5.  6.  6.]\n",
      "  [ 5.  3.  4.  3.  9.]]]\n"
     ]
    }
   ],
   "source": [
    "print(a)\n",
    "print(d)\n",
    "\n",
    "#D is an array of the same shape as A, with each value + 1, because the original array that we added to it (b) was an array of ones."
   ]
  },
  {
   "cell_type": "markdown",
   "metadata": {},
   "source": [
    "\n",
    "### 12. Multiply a and c. Assign the result to e.\n"
   ]
  },
  {
   "cell_type": "code",
   "execution_count": 24,
   "metadata": {},
   "outputs": [
    {
     "name": "stdout",
     "output_type": "stream",
     "text": [
      "E is an array created by multiplying A and C: \n",
      "[[[4. 2. 8. 9. 9.]\n",
      "  [9. 0. 6. 6. 8.]\n",
      "  [3. 3. 4. 8. 5.]]\n",
      "\n",
      " [[9. 3. 5. 4. 4.]\n",
      "  [8. 1. 4. 5. 5.]\n",
      "  [4. 2. 3. 2. 8.]]]\n"
     ]
    }
   ],
   "source": [
    "e = a * c\n",
    "print(\"E is an array created by multiplying A and C: \")\n",
    "print(e)\n"
   ]
  },
  {
   "cell_type": "markdown",
   "metadata": {},
   "source": [
    "\n",
    "\n",
    "### 13. Does e equal to a? Why or why not?\n"
   ]
  },
  {
   "cell_type": "code",
   "execution_count": 28,
   "metadata": {},
   "outputs": [
    {
     "name": "stdout",
     "output_type": "stream",
     "text": [
      "E is the same as A, because c consists of ones only\n"
     ]
    }
   ],
   "source": [
    "if e.all() == a.all():\n",
    "    print(\"E is the same as A, because c consists of ones only\")\n",
    "else:\n",
    "    print(\"E is not the same as A\")\n"
   ]
  },
  {
   "cell_type": "markdown",
   "metadata": {},
   "source": [
    "\n",
    "\n",
    "### 14. Identify the max, min, and mean values in d. Assign those values to variables \"d_max\", \"d_min\", and \"d_mean\"\n"
   ]
  },
  {
   "cell_type": "code",
   "execution_count": 32,
   "metadata": {},
   "outputs": [
    {
     "name": "stdout",
     "output_type": "stream",
     "text": [
      "Max value in d = 10.0\n",
      "Min value in d = 1.0\n",
      "Mean value in d = 6.033333333333333\n"
     ]
    }
   ],
   "source": [
    "d_max = d.max()\n",
    "print(\"Max value in d =\", d_max)\n",
    "d_min = d.min()\n",
    "print(\"Min value in d =\", d_min)\n",
    "d_mean = d.mean()\n",
    "print(\"Mean value in d =\", d_mean)\n",
    "\n"
   ]
  },
  {
   "cell_type": "markdown",
   "metadata": {},
   "source": [
    "\n",
    "### 15. Now we want to label the values in d. First create an empty array \"f\" with the same shape (i.e. 2x3x5) as d using `np.empty`.\n"
   ]
  },
  {
   "cell_type": "code",
   "execution_count": 33,
   "metadata": {},
   "outputs": [
    {
     "name": "stdout",
     "output_type": "stream",
     "text": [
      "F is an empy array of the shape 2x3x5\n"
     ]
    }
   ],
   "source": [
    "f = np.empty((2,3,5))\n",
    "print(\"F is an empy array of the shape 2x3x5\")\n"
   ]
  },
  {
   "cell_type": "markdown",
   "metadata": {},
   "source": [
    "\n",
    "\n",
    "\n",
    "### 16. Populate the values in f. For each value in d, if it's larger than d_min but smaller than d_mean, assign 25 to the corresponding value in f.\n",
    "If a value in d is larger than d_mean but smaller than d_max, assign 75 to the corresponding value in f.\n",
    "If a value equals to d_mean, assign 50 to the corresponding value in f.\n",
    "Assign 0 to the corresponding value(s) in f for d_min in d.\n",
    "Assign 100 to the corresponding value(s) in f for d_max in d.\n",
    "In the end, f should have only the following values: 0, 25, 50, 75, and 100.\n",
    "Note: you don't have to use Numpy in this question.\n",
    "\n"
   ]
  },
  {
   "cell_type": "code",
   "execution_count": 39,
   "metadata": {},
   "outputs": [],
   "source": [
    "for i in range(d.shape[0]):\n",
    "    for j in range(d.shape[1]):\n",
    "        for k in range(d.shape[2]):\n",
    "            # Get the current value\n",
    "            value = d[i, j, k]\n",
    "            \n",
    "            # Apply conditions and update f\n",
    "            if value > d_min and value < d_mean:\n",
    "                f[i, j, k] = 25\n",
    "            elif value > d_mean and value < d_max:\n",
    "                f[i, j, k] = 75\n",
    "            elif value == d_mean:\n",
    "                f[i, j, k] = 50\n",
    "            elif value == d_max:\n",
    "                f[i, j, k] = 100\n",
    "                \n"
   ]
  },
  {
   "cell_type": "markdown",
   "metadata": {},
   "source": [
    "\n",
    "\n",
    "\n",
    "\n",
    "### 17. Print d and f. Do you have your expected f?\n",
    "For instance, if your d is:\n",
    "array([[[1.85836099, 1.67064465, 1.62576044, 1.40243961, 1.88454931],\n",
    "        [1.75354326, 1.69403643, 1.36729252, 1.61415071, 1.12104981],\n",
    "        [1.72201435, 1.1862918 , 1.87078449, 1.7726778 , 1.88180042]],\n",
    "\n",
    "       [[1.44747908, 1.31673383, 1.02000951, 1.52218947, 1.97066381],\n",
    "        [1.79129243, 1.74983003, 1.96028037, 1.85166831, 1.65450881],\n",
    "        [1.18068344, 1.9587381 , 1.00656599, 1.93402165, 1.73514584]]])\n",
    "\n",
    "Your f should be:\n",
    "array([[[ 75.,  75.,  75.,  25.,  75.],\n",
    "        [ 75.,  75.,  25.,  25.,  25.],\n",
    "        [ 75.,  25.,  75.,  75.,  75.]],\n",
    "\n",
    "       [[ 25.,  25.,  25.,  25., 100.],\n",
    "        [ 75.,  75.,  75.,  75.,  75.],\n",
    "        [ 25.,  75.,   0.,  75.,  75.]]])\n",
    "\n"
   ]
  },
  {
   "cell_type": "code",
   "execution_count": 40,
   "metadata": {},
   "outputs": [
    {
     "name": "stdout",
     "output_type": "stream",
     "text": [
      "\n",
      "D array (original):\n",
      "[[[ 5.  3.  9. 10. 10.]\n",
      "  [10.  1.  7.  7.  9.]\n",
      "  [ 4.  4.  5.  9.  6.]]\n",
      "\n",
      " [[10.  4.  6.  5.  5.]\n",
      "  [ 9.  2.  5.  6.  6.]\n",
      "  [ 5.  3.  4.  3.  9.]]]\n",
      "\n",
      "F is an array of the following numbers:\n",
      "[[[ 25.  25.  75. 100. 100.]\n",
      "  [100.   0.  75.  75.  75.]\n",
      "  [ 25.  25.  25.  75.  25.]]\n",
      "\n",
      " [[100.  25.  25.  25.  25.]\n",
      "  [ 75.  25.  25.  25.  25.]\n",
      "  [ 25.  25.  25.  25.  75.]]]\n"
     ]
    }
   ],
   "source": [
    "print(\"\\nD array (original):\")\n",
    "print(d)\n",
    "print(\"\\nF is an array of the following numbers:\")\n",
    "print(f)"
   ]
  },
  {
   "cell_type": "markdown",
   "metadata": {},
   "source": [
    "### 18. Bonus question: instead of using numbers (i.e. 0, 25, 50, 75, and 100), how to use string values \n",
    "(\"A\", \"B\", \"C\", \"D\", and \"E\") to label the array elements? You are expecting the result to be:\n",
    "array([[[ 'D',  'D',  'D',  'B',  'D'],\n",
    "        [ 'D',  'D',  'B',  'B',  'B'],\n",
    "        [ 'D',  'B',  'D',  'D',  'D']],\n",
    "\n",
    "       [[ 'B',  'B',  'B',  'B',  'E'],\n",
    "        [ 'D',  'D',  'D',  'D',  'D'],\n",
    "        [ 'B',  'D',   'A',  'D', 'D']]])\n",
    "Again, you don't need Numpy in this question."
   ]
  },
  {
   "cell_type": "code",
   "execution_count": 46,
   "metadata": {},
   "outputs": [
    {
     "name": "stdout",
     "output_type": "stream",
     "text": [
      "[[[ 5.  3.  9. 10. 10.]\n",
      "  [10.  1.  7.  7.  9.]\n",
      "  [ 4.  4.  5.  9.  6.]]\n",
      "\n",
      " [[10.  4.  6.  5.  5.]\n",
      "  [ 9.  2.  5.  6.  6.]\n",
      "  [ 5.  3.  4.  3.  9.]]]\n",
      "[[[ 25.  25.  75. 100. 100.]\n",
      "  [100.   0.  75.  75.  75.]\n",
      "  [ 25.  25.  25.  75.  25.]]\n",
      "\n",
      " [[100.  25.  25.  25.  25.]\n",
      "  [ 75.  25.  25.  25.  25.]\n",
      "  [ 25.  25.  25.  25.  75.]]]\n",
      "[[['A' 'A' 'C' 'D' 'D']\n",
      "  ['D' '0.0' 'C' 'C' 'C']\n",
      "  ['A' 'A' 'A' 'C' 'A']]\n",
      "\n",
      " [['D' 'A' 'A' 'A' 'A']\n",
      "  ['C' 'A' 'A' 'A' 'A']\n",
      "  ['A' 'A' 'A' 'A' 'C']]]\n"
     ]
    }
   ],
   "source": [
    "fs = f.astype(str)\n",
    "\n",
    "for i in range(d.shape[0]):\n",
    "    for j in range(d.shape[1]):\n",
    "        for k in range(d.shape[2]):\n",
    "            # Get the current value\n",
    "            value = d[i, j, k]\n",
    "            \n",
    "            # Apply conditions and update f\n",
    "            if value > d_min and value < d_mean:\n",
    "                fs[i, j, k] = \"A\"\n",
    "            elif value > d_mean and value < d_max:\n",
    "                fs[i, j, k] = \"C\"\n",
    "            elif value == d_mean:\n",
    "                fs[i, j, k] = \"B\"\n",
    "            elif value == d_max:\n",
    "                fs[i, j, k] = \"D\"\n",
    "                \n",
    "print(d)\n",
    "print(f)\n",
    "print(fs)"
   ]
  }
 ],
 "metadata": {
  "kernelspec": {
   "display_name": "Python 3",
   "language": "python",
   "name": "python3"
  },
  "language_info": {
   "codemirror_mode": {
    "name": "ipython",
    "version": 3
   },
   "file_extension": ".py",
   "mimetype": "text/x-python",
   "name": "python",
   "nbconvert_exporter": "python",
   "pygments_lexer": "ipython3",
   "version": "3.11.9"
  }
 },
 "nbformat": 4,
 "nbformat_minor": 2
}
